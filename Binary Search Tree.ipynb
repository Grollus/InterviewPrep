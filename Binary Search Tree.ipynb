{
 "cells": [
  {
   "cell_type": "code",
   "execution_count": 1,
   "metadata": {
    "collapsed": true
   },
   "outputs": [],
   "source": [
    "class Node:\n",
    "    def __init__(self, val):\n",
    "        self.value = val\n",
    "        self.leftChild = None\n",
    "        self.rightChild = None\n",
    "        \n",
    "        \n",
    "    def insert(self,data):\n",
    "        if self.value == data:\n",
    "            return False\n",
    "        elif self.value > data:\n",
    "            if self.leftChild:\n",
    "                return self.leftChild.insert(data)\n",
    "            else:\n",
    "                self.leftChild = Node(data)\n",
    "                return True\n",
    "        else:\n",
    "            if self.rightChild:\n",
    "                return self.rightChild.insert(data)\n",
    "            else:\n",
    "                self.rightChild = Node(data)\n",
    "                return True\n",
    "        \n",
    "    def find(self, data):\n",
    "        if(self.value == data):\n",
    "            return True\n",
    "        elif self.value > data:\n",
    "            if self.leftChild:\n",
    "                return self.leftChild.find(data)\n",
    "            else:\n",
    "                return False\n",
    "        else:\n",
    "            if self.rightChild:\n",
    "                return self.rightChild.find(data)\n",
    "            else:\n",
    "                return False\n",
    "            \n",
    "    \n",
    "    def postorder(self):\n",
    "        if self:\n",
    "            \n",
    "            if self.leftChild:\n",
    "                self.leftChild.postorder()\n",
    "            if self.rightChild:\n",
    "                self.rightChild.postorder()\n",
    "            print(str(self.value))\n",
    "            \n",
    "    \n",
    "    def inorder(self):\n",
    "        if self:\n",
    "            \n",
    "            if self.leftChild:\n",
    "                self.leftChild.inorder()\n",
    "            print(str(self.value))\n",
    "            if self.rightChild:\n",
    "                self.rightChild.inorder()\n",
    "            \n",
    "            \n",
    "    def preorder(self):\n",
    "        if self:\n",
    "            print(str(self.value))\n",
    "            if self.leftChild:\n",
    "                self.leftChild.preorder()\n",
    "            if self.rightChild:\n",
    "                self.rightChild.preorder()\n",
    "                \n",
    "class Tree:\n",
    "    def __init__(self):\n",
    "        self.root = None\n",
    "        \n",
    "    def insert(self, data):\n",
    "        if self.root:\n",
    "            return self.root.insert(data)\n",
    "        else:\n",
    "            self.root = Node(data)\n",
    "            return True\n",
    "        \n",
    "    def find(self, data):\n",
    "        if self.root:\n",
    "            return self.root.find(data)\n",
    "        else:\n",
    "            return False\n",
    "        \n",
    "        \n",
    "    def preorder(self):\n",
    "        print(\"Preorder\")\n",
    "        self.root.preorder()\n",
    "        \n",
    "    def postorder(self):\n",
    "        print(\"Postorder\")\n",
    "        self.root.postorder()\n",
    "        \n",
    "    def inorder(self):\n",
    "        print(\"Inorder\")\n",
    "        self.root.inorder()"
   ]
  },
  {
   "cell_type": "code",
   "execution_count": 2,
   "metadata": {},
   "outputs": [
    {
     "data": {
      "text/plain": [
       "True"
      ]
     },
     "execution_count": 2,
     "metadata": {},
     "output_type": "execute_result"
    }
   ],
   "source": [
    "bst = Tree()\n",
    "bst.insert(10)"
   ]
  },
  {
   "cell_type": "code",
   "execution_count": 3,
   "metadata": {},
   "outputs": [
    {
     "name": "stdout",
     "output_type": "stream",
     "text": [
      "True\n"
     ]
    }
   ],
   "source": [
    "print(bst.insert(15))"
   ]
  },
  {
   "cell_type": "code",
   "execution_count": 4,
   "metadata": {},
   "outputs": [
    {
     "name": "stdout",
     "output_type": "stream",
     "text": [
      "Preorder\n",
      "10\n",
      "15\n"
     ]
    }
   ],
   "source": [
    "bst.preorder()"
   ]
  },
  {
   "cell_type": "code",
   "execution_count": 5,
   "metadata": {},
   "outputs": [
    {
     "name": "stdout",
     "output_type": "stream",
     "text": [
      "Postorder\n",
      "15\n",
      "10\n"
     ]
    }
   ],
   "source": [
    "bst.postorder()"
   ]
  },
  {
   "cell_type": "code",
   "execution_count": 6,
   "metadata": {},
   "outputs": [
    {
     "name": "stdout",
     "output_type": "stream",
     "text": [
      "Inorder\n",
      "10\n",
      "15\n"
     ]
    }
   ],
   "source": [
    "bst.inorder()"
   ]
  },
  {
   "cell_type": "code",
   "execution_count": null,
   "metadata": {
    "collapsed": true
   },
   "outputs": [],
   "source": []
  }
 ],
 "metadata": {
  "kernelspec": {
   "display_name": "Python 3",
   "language": "python",
   "name": "python3"
  },
  "language_info": {
   "codemirror_mode": {
    "name": "ipython",
    "version": 3
   },
   "file_extension": ".py",
   "mimetype": "text/x-python",
   "name": "python",
   "nbconvert_exporter": "python",
   "pygments_lexer": "ipython3",
   "version": "3.6.5"
  }
 },
 "nbformat": 4,
 "nbformat_minor": 2
}
