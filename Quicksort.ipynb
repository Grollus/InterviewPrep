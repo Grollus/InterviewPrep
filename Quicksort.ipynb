{
 "cells": [
  {
   "cell_type": "code",
   "execution_count": 1,
   "metadata": {},
   "outputs": [],
   "source": [
    "import random"
   ]
  },
  {
   "cell_type": "code",
   "execution_count": 2,
   "metadata": {},
   "outputs": [],
   "source": [
    "testList = random.sample(range(0,100), 10)"
   ]
  },
  {
   "cell_type": "code",
   "execution_count": 3,
   "metadata": {},
   "outputs": [
    {
     "data": {
      "text/plain": [
       "[20, 36, 92, 91, 71, 0, 7, 85, 99, 79]"
      ]
     },
     "execution_count": 3,
     "metadata": {},
     "output_type": "execute_result"
    }
   ],
   "source": [
    "testList"
   ]
  },
  {
   "cell_type": "code",
   "execution_count": 4,
   "metadata": {},
   "outputs": [],
   "source": [
    "def quicksort(listToSort, lowIndex, highIndex):\n",
    "    if highIndex-lowIndex > 0:\n",
    "        p = partition(listToSort, lowIndex, highIndex)\n",
    "        quicksort(listToSort, lowIndex, p-1)\n",
    "        quicksort(listToSort, p+1, highIndex)"
   ]
  },
  {
   "cell_type": "code",
   "execution_count": 5,
   "metadata": {},
   "outputs": [
    {
     "data": {
      "text/plain": [
       "6"
      ]
     },
     "execution_count": 5,
     "metadata": {},
     "output_type": "execute_result"
    }
   ],
   "source": [
    "random.sample(range(len(testList)),1)[0]"
   ]
  },
  {
   "cell_type": "code",
   "execution_count": 6,
   "metadata": {},
   "outputs": [],
   "source": [
    "def partition(listToSort, lowIndex, highIndex):\n",
    "    random_index = random.randint(lowIndex, highIndex)\n",
    "    listToSort[highIndex], listToSort[random_index] = listToSort[random_index], listToSort[highIndex]\n",
    "    \n",
    "    pivot = lowIndex\n",
    "    for i in range(lowIndex, highIndex):\n",
    "        if (listToSort[i] < listToSort[highIndex]):\n",
    "            listToSort[i], listToSort[pivot] = listToSort[pivot], listToSort[i]\n",
    "            pivot += 1\n",
    "    listToSort[pivot], listToSort[highIndex] = listToSort[highIndex], listToSort[pivot]\n",
    "    \n",
    "    return pivot"
   ]
  },
  {
   "cell_type": "code",
   "execution_count": 7,
   "metadata": {},
   "outputs": [],
   "source": [
    "quicksort(testList, 0, 9)"
   ]
  },
  {
   "cell_type": "code",
   "execution_count": 8,
   "metadata": {},
   "outputs": [
    {
     "data": {
      "text/plain": [
       "[0, 7, 20, 36, 71, 79, 85, 91, 92, 99]"
      ]
     },
     "execution_count": 8,
     "metadata": {},
     "output_type": "execute_result"
    }
   ],
   "source": [
    "testList"
   ]
  },
  {
   "cell_type": "code",
   "execution_count": 9,
   "metadata": {},
   "outputs": [],
   "source": [
    "testList2 = random.sample(range(1000), 50)"
   ]
  },
  {
   "cell_type": "code",
   "execution_count": 10,
   "metadata": {},
   "outputs": [],
   "source": [
    "quicksort(testList2, 0, len(testList2)-1)"
   ]
  },
  {
   "cell_type": "code",
   "execution_count": 11,
   "metadata": {},
   "outputs": [
    {
     "data": {
      "text/plain": [
       "[19,\n",
       " 44,\n",
       " 45,\n",
       " 54,\n",
       " 61,\n",
       " 90,\n",
       " 98,\n",
       " 112,\n",
       " 121,\n",
       " 150,\n",
       " 158,\n",
       " 166,\n",
       " 198,\n",
       " 244,\n",
       " 252,\n",
       " 260,\n",
       " 263,\n",
       " 273,\n",
       " 279,\n",
       " 283,\n",
       " 299,\n",
       " 363,\n",
       " 397,\n",
       " 417,\n",
       " 418,\n",
       " 421,\n",
       " 429,\n",
       " 431,\n",
       " 481,\n",
       " 487,\n",
       " 507,\n",
       " 513,\n",
       " 520,\n",
       " 534,\n",
       " 557,\n",
       " 571,\n",
       " 576,\n",
       " 588,\n",
       " 591,\n",
       " 602,\n",
       " 677,\n",
       " 694,\n",
       " 784,\n",
       " 787,\n",
       " 792,\n",
       " 808,\n",
       " 809,\n",
       " 833,\n",
       " 899,\n",
       " 959]"
      ]
     },
     "execution_count": 11,
     "metadata": {},
     "output_type": "execute_result"
    }
   ],
   "source": [
    "testList2"
   ]
  },
  {
   "cell_type": "code",
   "execution_count": null,
   "metadata": {
    "collapsed": true
   },
   "outputs": [],
   "source": []
  }
 ],
 "metadata": {
  "kernelspec": {
   "display_name": "Python 3",
   "language": "python",
   "name": "python3"
  },
  "language_info": {
   "codemirror_mode": {
    "name": "ipython",
    "version": 3
   },
   "file_extension": ".py",
   "mimetype": "text/x-python",
   "name": "python",
   "nbconvert_exporter": "python",
   "pygments_lexer": "ipython3",
   "version": "3.6.5"
  }
 },
 "nbformat": 4,
 "nbformat_minor": 2
}
