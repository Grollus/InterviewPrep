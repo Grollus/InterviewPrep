{
 "cells": [
  {
   "cell_type": "code",
   "execution_count": 16,
   "metadata": {
    "collapsed": true
   },
   "outputs": [],
   "source": [
    "a = [1, 3, 4, 6, 5, 7]\n",
    "b = [7, 6, 8]\n",
    "c = [1, 5, 7, 9]"
   ]
  },
  {
   "cell_type": "code",
   "execution_count": 13,
   "metadata": {
    "collapsed": true
   },
   "outputs": [],
   "source": [
    "def split(arr):\n",
    "    idx = int(len(arr)/2)\n",
    "    return arr[0:idx], arr[idx:len(arr)]    \n",
    "    \n",
    "def merge(arr1, arr2):\n",
    "    idx1 = 0\n",
    "    idx2 = 0\n",
    "    ret = []\n",
    "    for i in range(len(arr1)+len(arr2)):\n",
    "        if idx2 >= len(arr2) or (idx1 < len(arr1) and arr1[idx1] < arr2[idx2]):\n",
    "            ret.append(arr1[idx1])\n",
    "            idx1 += 1\n",
    "        else:\n",
    "            ret.append(arr2[idx2])\n",
    "            idx2 += 1\n",
    "            \n",
    "    return ret\n",
    "    \n",
    "    \n",
    "    \n",
    "def mergesort(arr):\n",
    "    if len(arr) < 2:\n",
    "        return arr\n",
    "    \n",
    "    pieces = split(arr)\n",
    "    return merge(mergesort(pieces[0]), mergesort(pieces[1]))\n",
    "    \n",
    "    "
   ]
  },
  {
   "cell_type": "code",
   "execution_count": 12,
   "metadata": {},
   "outputs": [
    {
     "name": "stdout",
     "output_type": "stream",
     "text": [
      "[1, 3, 4, 4, 6, 6, 5, 7, 8]\n"
     ]
    }
   ],
   "source": [
    "print(\"{}\".format(merge(a, b)))"
   ]
  },
  {
   "cell_type": "code",
   "execution_count": 17,
   "metadata": {},
   "outputs": [
    {
     "data": {
      "text/plain": [
       "[6, 7, 8]"
      ]
     },
     "execution_count": 17,
     "metadata": {},
     "output_type": "execute_result"
    }
   ],
   "source": [
    "mergesort(b)"
   ]
  },
  {
   "cell_type": "code",
   "execution_count": 25,
   "metadata": {
    "collapsed": true
   },
   "outputs": [],
   "source": [
    "def merge(left, right):\n",
    "    \"\"\"Merge sort merging function.\"\"\"\n",
    "\n",
    "    left_index, right_index = 0, 0\n",
    "    result = []\n",
    "    while left_index < len(left) and right_index < len(right):\n",
    "        if left[left_index] < right[right_index]:\n",
    "            result.append(left[left_index])\n",
    "            left_index += 1\n",
    "        else:\n",
    "            result.append(right[right_index])\n",
    "            right_index += 1\n",
    "\n",
    "    result += left[left_index:]\n",
    "    result += right[right_index:]\n",
    "    return result\n",
    "\n",
    "\n",
    "def merge_sort(array):\n",
    "    \"\"\"Merge sort algorithm implementation.\"\"\"\n",
    "\n",
    "    if len(array) <= 1:  # base case\n",
    "        return array\n",
    "\n",
    "    # divide array in half and merge sort recursively\n",
    "    half = len(array) // 2\n",
    "    left = merge_sort(array[:half])\n",
    "    right = merge_sort(array[half:])\n",
    "\n",
    "    return merge(left, right)"
   ]
  },
  {
   "cell_type": "code",
   "execution_count": 27,
   "metadata": {},
   "outputs": [
    {
     "data": {
      "text/plain": [
       "[1, 3, 3, 4, 5, 8, 17, 19]"
      ]
     },
     "execution_count": 27,
     "metadata": {},
     "output_type": "execute_result"
    }
   ],
   "source": [
    "mergesort([3,1, 5, 3, 8, 19, 4, 17])"
   ]
  },
  {
   "cell_type": "code",
   "execution_count": 28,
   "metadata": {},
   "outputs": [
    {
     "data": {
      "text/plain": [
       "[1, 4]"
      ]
     },
     "execution_count": 28,
     "metadata": {},
     "output_type": "execute_result"
    }
   ],
   "source": [
    "merge([1], [4])"
   ]
  },
  {
   "cell_type": "code",
   "execution_count": 34,
   "metadata": {},
   "outputs": [],
   "source": [
    "r = []"
   ]
  },
  {
   "cell_type": "code",
   "execution_count": 37,
   "metadata": {},
   "outputs": [],
   "source": [
    "r +=[1][1:]"
   ]
  },
  {
   "cell_type": "code",
   "execution_count": 39,
   "metadata": {},
   "outputs": [],
   "source": [
    "r +=[4][0:]"
   ]
  },
  {
   "cell_type": "raw",
   "metadata": {},
   "source": [
    "r"
   ]
  },
  {
   "cell_type": "code",
   "execution_count": 40,
   "metadata": {},
   "outputs": [
    {
     "data": {
      "text/plain": [
       "[1, 4]"
      ]
     },
     "execution_count": 40,
     "metadata": {},
     "output_type": "execute_result"
    }
   ],
   "source": [
    "r"
   ]
  },
  {
   "cell_type": "code",
   "execution_count": null,
   "metadata": {
    "collapsed": true
   },
   "outputs": [],
   "source": []
  }
 ],
 "metadata": {
  "kernelspec": {
   "display_name": "Python 3",
   "language": "python",
   "name": "python3"
  },
  "language_info": {
   "codemirror_mode": {
    "name": "ipython",
    "version": 3
   },
   "file_extension": ".py",
   "mimetype": "text/x-python",
   "name": "python",
   "nbconvert_exporter": "python",
   "pygments_lexer": "ipython3",
   "version": "3.6.5"
  }
 },
 "nbformat": 4,
 "nbformat_minor": 2
}
