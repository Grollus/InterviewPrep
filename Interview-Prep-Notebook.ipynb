{
 "cells": [
  {
   "cell_type": "markdown",
   "metadata": {},
   "source": [
    "# Interview Prep Notes"
   ]
  },
  {
   "cell_type": "markdown",
   "metadata": {},
   "source": [
    "This is my attempt to centralize my interview study prep into a central location. Right now I have notes all over the place and it's extremely inefficient resulting in a lot of duplicated work."
   ]
  },
  {
   "cell_type": "markdown",
   "metadata": {},
   "source": [
    "##  CS Algorithms"
   ]
  },
  {
   "cell_type": "markdown",
   "metadata": {},
   "source": [
    "#### Classic Fizzbuzz"
   ]
  },
  {
   "cell_type": "code",
   "execution_count": 23,
   "metadata": {},
   "outputs": [],
   "source": [
    "def fizzbuzz(n):\n",
    "    '''Args: n- number of numbers to print\n",
    "       Returns: 1 through n where:\n",
    "               -Fizz replaces any number divisible by 3\n",
    "               -Buzz replaces any number divisible by 5\n",
    "               -Fizzbuzz replaces any number divisible by both 3 and 5 (or alternatively div by 15)'''\n",
    "    for i in range(1, n+1):\n",
    "        if i % 5 == 0 and i % 3 == 0:\n",
    "            print(\"Fizzbuzz\")\n",
    "        elif i % 3 == 0:\n",
    "            print(\"Fizz\")\n",
    "        elif i % 5 == 0:\n",
    "            print(\"Buzz\")\n",
    "        else:\n",
    "            print(i)"
   ]
  },
  {
   "cell_type": "markdown",
   "metadata": {},
   "source": [
    "#### Parameterized Fizzbuzz"
   ]
  },
  {
   "cell_type": "code",
   "execution_count": 2,
   "metadata": {},
   "outputs": [],
   "source": [
    "fizzlist = [[3, \"Fizz\"], [5, \"Buzz\"], [15, \"Fizzbuzz\"]]"
   ]
  },
  {
   "cell_type": "code",
   "execution_count": 3,
   "metadata": {},
   "outputs": [],
   "source": [
    "def fizzbuzz_parameterized(n, wordlist):\n",
    "    # Sort list first to make sure largest numbers are checked first--avoids\n",
    "    sortedList = sorted(wordlist, reverse = True)\n",
    "    result = []\n",
    "    for i in range(1, n+1):\n",
    "        for j in sortedList:\n",
    "            if i % j[0] == 0:\n",
    "                result.append(j[1])\n",
    "                break\n",
    "        else:\n",
    "            result.append(i)\n",
    "    return result"
   ]
  },
  {
   "cell_type": "code",
   "execution_count": 4,
   "metadata": {},
   "outputs": [
    {
     "data": {
      "text/plain": [
       "[[15, 'Fizzbuzz'], [5, 'Buzz'], [3, 'Fizz']]"
      ]
     },
     "execution_count": 4,
     "metadata": {},
     "output_type": "execute_result"
    }
   ],
   "source": [
    "sorted(fizzlist, reverse = True)"
   ]
  },
  {
   "cell_type": "code",
   "execution_count": 6,
   "metadata": {},
   "outputs": [
    {
     "data": {
      "text/plain": [
       "[1, 2, 'Fizz', 4, 'Buzz', 'Fizz', 7, 8, 'Fizz', 'Buzz']"
      ]
     },
     "execution_count": 6,
     "metadata": {},
     "output_type": "execute_result"
    }
   ],
   "source": [
    "fizzbuzz_parameterized(10, fizzlist)"
   ]
  },
  {
   "cell_type": "markdown",
   "metadata": {},
   "source": [
    "#### MergeSort"
   ]
  },
  {
   "cell_type": "markdown",
   "metadata": {},
   "source": [
    "Merge sort is **O(nlog(n))** in time complexity and **n** in space complexity. Two components to the algorithm. Split the list recursively until each group is a single element. Then compare each element and group accordingly. Repeat the latter step until complete."
   ]
  },
  {
   "cell_type": "code",
   "execution_count": 103,
   "metadata": {},
   "outputs": [],
   "source": [
    "a = [1, 5, 3, 2, 8, 3, 4] "
   ]
  },
  {
   "cell_type": "code",
   "execution_count": 104,
   "metadata": {},
   "outputs": [],
   "source": [
    "def mergeSort(alist):\n",
    "    #print(\"Splitting\", alist)\n",
    "    # split until groups of 1\n",
    "    if len(alist) > 1:\n",
    "        # Find midpoint\n",
    "        mid = len(alist)//2\n",
    "        \n",
    "        # grab left and right halves\n",
    "        lefthalf = alist[:mid]\n",
    "        righthalf = alist[mid:]\n",
    "        \n",
    "        # recursion\n",
    "        mergeSort(lefthalf)\n",
    "        mergeSort(righthalf)\n",
    "        \n",
    "        i = 0\n",
    "        j = 0\n",
    "        k = 0\n",
    "        #Once down to single groups comparisons start\n",
    "        while i < len(lefthalf) and j < len(righthalf):\n",
    "            if lefthalf[i] < righthalf[j]:\n",
    "                alist[k] = lefthalf[i]\n",
    "                i += 1\n",
    "            \n",
    "            else:\n",
    "                alist[k] = righthalf[j]\n",
    "                j += 1\n",
    "            k += 1\n",
    "            \n",
    "        while i < len(lefthalf):\n",
    "            alist[k] = lefthalf[i]\n",
    "            i += 1\n",
    "            k += 1\n",
    "            \n",
    "        while j < len(righthalf):\n",
    "            alist[k] = righthalf[j]\n",
    "            j += 1\n",
    "            k += 1\n",
    "    #print(\"Merging\", alist)"
   ]
  },
  {
   "cell_type": "markdown",
   "metadata": {},
   "source": [
    "#### Quick Sort\n",
    "\n",
    "Quicksort is also **O(nlog(n))** (or in worst case **O(n^2)**). But quicksort doesn't use additional space to store lists so it has that advantage over mergesort."
   ]
  },
  {
   "cell_type": "code",
   "execution_count": 105,
   "metadata": {},
   "outputs": [],
   "source": [
    "def quickSort(alist):\n",
    "    quickSortHelper(alist, 0, len(alist)-1)\n",
    "    \n",
    "def quickSortHelper(alist, first, last):\n",
    "    if first < last:\n",
    "        splitpoint = partition(alist, first, last)\n",
    "        quickSortHelper(alist, first, splitpoint -1)\n",
    "        quickSortHelper(alist, splitpoint + 1, last)\n",
    "        \n",
    "def partition(alist, first, last):\n",
    "    pivotvalue = alist[first]\n",
    "    leftmark = first + 1\n",
    "    rightmark = last\n",
    "    done = False\n",
    "    \n",
    "    while not done:\n",
    "        while leftmark <= rightmark and alist[leftmark] <= pivotvalue:\n",
    "            leftmark = leftmark + 1\n",
    "            \n",
    "        while alist[rightmark] >= pivotvalue and rightmark >= leftmark:\n",
    "            rightmark = rightmark - 1\n",
    "            \n",
    "        if rightmark < leftmark:\n",
    "            done = True\n",
    "        \n",
    "        else:\n",
    "            temp = alist[leftmark]\n",
    "            alist[leftmark] = alist[rightmark]\n",
    "            alist[rightmark] = temp\n",
    "    \n",
    "    temp = alist[first]\n",
    "    alist[first] = alist[rightmark]\n",
    "    alist[rightmark] = temp\n",
    "    \n",
    "    return rightmark"
   ]
  },
  {
   "cell_type": "code",
   "execution_count": 106,
   "metadata": {},
   "outputs": [
    {
     "name": "stdout",
     "output_type": "stream",
     "text": [
      "[4, 9, 22, 30, 45, 71, 85, 87]\n"
     ]
    }
   ],
   "source": [
    "b = [45, 71, 22, 30, 85, 87, 4, 9]\n",
    "quickSort(b)\n",
    "print(b)"
   ]
  },
  {
   "cell_type": "code",
   "execution_count": 107,
   "metadata": {},
   "outputs": [],
   "source": [
    "def quicksort(alist, lowIndex, highIndex):\n",
    "    if highIndex - lowIndex > 0:\n",
    "        splitpoint = partition(alist, lowIndex, highIndex)\n",
    "        quicksort(alist, lowIndex, splitpoint - 1)\n",
    "        quicksort(alist, splitpoint + 1, highIndex)\n",
    "\n",
    "import random        \n",
    "def partition(alist, lowIndex, highIndex):\n",
    "    randomIndex = random.randint(lowIndex, highIndex)\n",
    "    alist[highIndex], alist[randomIndex] = alist[randomIndex], alist[highIndex]\n",
    "    \n",
    "    pivot = lowIndex\n",
    "    for i in range(lowIndex, highIndex):\n",
    "        if (alist[i] < alist[highIndex]):\n",
    "            alist[i], alist[pivot] = alist[pivot], alist[i]\n",
    "            pivot += 1\n",
    "    alist[pivot], alist[highIndex] = alist[highIndex], alist[pivot]\n",
    "    \n",
    "    return pivot"
   ]
  },
  {
   "cell_type": "code",
   "execution_count": 108,
   "metadata": {},
   "outputs": [],
   "source": [
    "quicksort(b, 0, len(b)-1)"
   ]
  },
  {
   "cell_type": "code",
   "execution_count": 109,
   "metadata": {},
   "outputs": [
    {
     "data": {
      "text/plain": [
       "[4, 9, 22, 30, 45, 71, 85, 87]"
      ]
     },
     "execution_count": 109,
     "metadata": {},
     "output_type": "execute_result"
    }
   ],
   "source": [
    "b"
   ]
  },
  {
   "cell_type": "markdown",
   "metadata": {},
   "source": [
    "#### Reversing\n",
    "\n",
    "Common interview question with several variations."
   ]
  },
  {
   "cell_type": "markdown",
   "metadata": {
    "heading_collapsed": true
   },
   "source": [
    "##### Reversing a string"
   ]
  },
  {
   "cell_type": "code",
   "execution_count": 3,
   "metadata": {
    "hidden": true
   },
   "outputs": [],
   "source": [
    "def reverseString(string):\n",
    "    newString = ''\n",
    "    index = len(string)\n",
    "    \n",
    "    while index:\n",
    "        index -= 1\n",
    "        newString += string[index]\n",
    "    return newString"
   ]
  },
  {
   "cell_type": "code",
   "execution_count": 4,
   "metadata": {
    "hidden": true
   },
   "outputs": [
    {
     "data": {
      "text/plain": [
       "\"sdrawkcab siht etirw s'teL\""
      ]
     },
     "execution_count": 4,
     "metadata": {},
     "output_type": "execute_result"
    }
   ],
   "source": [
    "reverseString(\"Let's write this backwards\")"
   ]
  },
  {
   "cell_type": "code",
   "execution_count": 5,
   "metadata": {
    "hidden": true
   },
   "outputs": [],
   "source": [
    "def reverseString2(string):\n",
    "    return string[::-1]"
   ]
  },
  {
   "cell_type": "code",
   "execution_count": 6,
   "metadata": {
    "hidden": true
   },
   "outputs": [
    {
     "data": {
      "text/plain": [
       "\"sdrawkcab siht etirw s'teL\""
      ]
     },
     "execution_count": 6,
     "metadata": {},
     "output_type": "execute_result"
    }
   ],
   "source": [
    "reverseString2(\"Let's write this backwards\")"
   ]
  },
  {
   "cell_type": "markdown",
   "metadata": {
    "heading_collapsed": true
   },
   "source": [
    "##### Reversing a sentence"
   ]
  },
  {
   "cell_type": "code",
   "execution_count": 13,
   "metadata": {
    "hidden": true
   },
   "outputs": [],
   "source": [
    "def reverseSentence(sen):\n",
    "    sensplit = sen.split()\n",
    "    \n",
    "    left = 0\n",
    "    right = len(sensplit)-1\n",
    "    \n",
    "    while right > left:\n",
    "        sensplit[left], sensplit[right] = sensplit[right], sensplit[left]\n",
    "        \n",
    "        left += 1\n",
    "        right -= 1\n",
    "        \n",
    "    return ' '.join(sensplit)"
   ]
  },
  {
   "cell_type": "code",
   "execution_count": 14,
   "metadata": {
    "hidden": true
   },
   "outputs": [
    {
     "data": {
      "text/plain": [
       "\"backwards this write Let's\""
      ]
     },
     "execution_count": 14,
     "metadata": {},
     "output_type": "execute_result"
    }
   ],
   "source": [
    "reverseSentence(\"Let's write this backwards\")"
   ]
  },
  {
   "cell_type": "markdown",
   "metadata": {},
   "source": [
    "##### In Place Reversal"
   ]
  },
  {
   "cell_type": "code",
   "execution_count": 17,
   "metadata": {},
   "outputs": [],
   "source": [
    "def inplaceRev(alist):\n",
    "    left = 0\n",
    "    right = len(alist) - 1\n",
    "    \n",
    "    while right > left:\n",
    "        alist[left], alist[right] = alist[right], alist[left]\n",
    "        \n",
    "        left += 1\n",
    "        right -= 1\n",
    "    \n",
    "    return alist"
   ]
  },
  {
   "cell_type": "code",
   "execution_count": 18,
   "metadata": {},
   "outputs": [
    {
     "data": {
      "text/plain": [
       "[5, 4, 3, 2, 1]"
      ]
     },
     "execution_count": 18,
     "metadata": {},
     "output_type": "execute_result"
    }
   ],
   "source": [
    "inplaceRev([1, 2, 3, 4, 5])"
   ]
  },
  {
   "cell_type": "markdown",
   "metadata": {},
   "source": [
    "#### Reversing a LinkedList\n",
    "\n",
    "Very common interview question. End up needing to define a Node class and then build from there."
   ]
  },
  {
   "cell_type": "code",
   "execution_count": 62,
   "metadata": {},
   "outputs": [],
   "source": [
    "class Node:\n",
    "    \n",
    "    def __init__(self, data, nextNode = None):\n",
    "        self.data = data\n",
    "        self.nextNode = nextNode\n",
    "        \n",
    "    def getData(self):\n",
    "        return self.data\n",
    "    \n",
    "    def setData(self, val):\n",
    "        self.data = val\n",
    "        \n",
    "    def getNextNode(self):\n",
    "        return self.nextNode\n",
    "    \n",
    "    def setNextNode(self, val):\n",
    "        self.nextNode = val"
   ]
  },
  {
   "cell_type": "code",
   "execution_count": 69,
   "metadata": {},
   "outputs": [],
   "source": [
    "class LinkedList:\n",
    "    \n",
    "    def __init__(self, head = None):\n",
    "        self.head = head\n",
    "        self.size = 0\n",
    "        \n",
    "    def getSize(self):\n",
    "        return self.size\n",
    "    \n",
    "    def addNode(self, data):\n",
    "        newNode = Node(data, self.head)\n",
    "        self.head = newNode\n",
    "        self.size +=1\n",
    "        return True\n",
    "    \n",
    "    def printNode(self):\n",
    "        curr = self.head\n",
    "        while curr:\n",
    "            print(curr.data)\n",
    "            curr = curr.getNextNode()\n",
    "            \n",
    "    def findNode(self, val):\n",
    "        curr = self.head\n",
    "        while curr:\n",
    "            if curr.getData() == val:\n",
    "                return True\n",
    "            curr = curr.getNextNode()\n",
    "        return False\n",
    "    \n",
    "    def removeNode(self,value):\n",
    "\n",
    "            prev = None\n",
    "            curr = self.head\n",
    "            while curr:\n",
    "                if curr.getData() == value:\n",
    "                    if prev:\n",
    "                        prev.setNextNode(curr.getNextNode())\n",
    "                    else:\n",
    "                        self.head = curr.getNextNode()\n",
    "                    return True\n",
    "\n",
    "                prev = curr\n",
    "                curr = curr.getNextNode()\n",
    "\n",
    "            return False\n",
    "        \n",
    "    def reverse(self, node):\n",
    "        \n",
    "        if node.getNextNode() == None:\n",
    "            self.head = node\n",
    "            return\n",
    "        self.reverse(node.getNextNode())\n",
    "        temp = node.getNextNode()\n",
    "        temp.setNextNode(node)\n",
    "        node.setNextNode(None)"
   ]
  },
  {
   "cell_type": "code",
   "execution_count": 70,
   "metadata": {},
   "outputs": [
    {
     "data": {
      "text/plain": [
       "True"
      ]
     },
     "execution_count": 70,
     "metadata": {},
     "output_type": "execute_result"
    }
   ],
   "source": [
    "myList = LinkedList()\n",
    "myList.addNode(5)\n",
    "myList.addNode(15)\n",
    "myList.addNode(48)"
   ]
  },
  {
   "cell_type": "code",
   "execution_count": 71,
   "metadata": {},
   "outputs": [
    {
     "name": "stdout",
     "output_type": "stream",
     "text": [
      "48\n",
      "15\n",
      "5\n"
     ]
    }
   ],
   "source": [
    "myList.printNode()"
   ]
  },
  {
   "cell_type": "code",
   "execution_count": 65,
   "metadata": {},
   "outputs": [
    {
     "data": {
      "text/plain": [
       "2"
      ]
     },
     "execution_count": 65,
     "metadata": {},
     "output_type": "execute_result"
    }
   ],
   "source": [
    "myList.getSize()"
   ]
  },
  {
   "cell_type": "code",
   "execution_count": 66,
   "metadata": {},
   "outputs": [
    {
     "data": {
      "text/plain": [
       "True"
      ]
     },
     "execution_count": 66,
     "metadata": {},
     "output_type": "execute_result"
    }
   ],
   "source": [
    "myList.findNode(15)"
   ]
  },
  {
   "cell_type": "code",
   "execution_count": 67,
   "metadata": {},
   "outputs": [
    {
     "data": {
      "text/plain": [
       "True"
      ]
     },
     "execution_count": 67,
     "metadata": {},
     "output_type": "execute_result"
    }
   ],
   "source": [
    "myList.removeNode(5)"
   ]
  },
  {
   "cell_type": "code",
   "execution_count": 79,
   "metadata": {},
   "outputs": [
    {
     "name": "stdout",
     "output_type": "stream",
     "text": [
      "5\n",
      "15\n",
      "48\n"
     ]
    }
   ],
   "source": [
    "myList.reverse(myList.head)\n",
    "myList.printNode()"
   ]
  },
  {
   "cell_type": "markdown",
   "metadata": {
    "heading_collapsed": true
   },
   "source": [
    "## Machine Learning"
   ]
  },
  {
   "cell_type": "markdown",
   "metadata": {
    "hidden": true
   },
   "source": [
    "### Algorithms"
   ]
  },
  {
   "cell_type": "markdown",
   "metadata": {
    "hidden": true
   },
   "source": [
    "**Linear Regression**\n",
    "* Used to solve problems with continuous output variables -- eg Housing Prices, Crime Rates, Click through rates, Future Sales, etc \n",
    "\n",
    "* General form: $y = b_0 +b_1 x_{i,1} + b_2 x_{i,2} + ... + b_p x_{i,p} + \\epsilon_i$"
   ]
  },
  {
   "cell_type": "markdown",
   "metadata": {
    "hidden": true
   },
   "source": [
    "### Concepts"
   ]
  },
  {
   "cell_type": "markdown",
   "metadata": {
    "hidden": true
   },
   "source": [
    "### "
   ]
  },
  {
   "cell_type": "markdown",
   "metadata": {},
   "source": [
    "## Statistics Notes"
   ]
  },
  {
   "cell_type": "code",
   "execution_count": null,
   "metadata": {},
   "outputs": [],
   "source": []
  },
  {
   "cell_type": "markdown",
   "metadata": {},
   "source": [
    "## Sample Questions"
   ]
  },
  {
   "cell_type": "code",
   "execution_count": null,
   "metadata": {},
   "outputs": [],
   "source": []
  }
 ],
 "metadata": {
  "kernelspec": {
   "display_name": "Python 3",
   "language": "python",
   "name": "python3"
  },
  "language_info": {
   "codemirror_mode": {
    "name": "ipython",
    "version": 3
   },
   "file_extension": ".py",
   "mimetype": "text/x-python",
   "name": "python",
   "nbconvert_exporter": "python",
   "pygments_lexer": "ipython3",
   "version": "3.6.5"
  }
 },
 "nbformat": 4,
 "nbformat_minor": 2
}
