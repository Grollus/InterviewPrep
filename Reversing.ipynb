{
 "cells": [
  {
   "cell_type": "code",
   "execution_count": 6,
   "metadata": {
    "collapsed": true
   },
   "outputs": [],
   "source": [
    "test = 'hello'\n",
    "test2 =  'adam houlette'\n",
    "test3 = [1, 2, 3, 4, 5, 6]"
   ]
  },
  {
   "cell_type": "code",
   "execution_count": 7,
   "metadata": {
    "collapsed": true
   },
   "outputs": [],
   "source": [
    "def reverseString(word):\n",
    "    newString = ''\n",
    "    index = len(word)\n",
    "    \n",
    "    while index:\n",
    "        index -= 1\n",
    "        newString += word[index]\n",
    "    return newString"
   ]
  },
  {
   "cell_type": "code",
   "execution_count": 8,
   "metadata": {},
   "outputs": [
    {
     "data": {
      "text/plain": [
       "'etteluoh mada'"
      ]
     },
     "execution_count": 8,
     "metadata": {},
     "output_type": "execute_result"
    }
   ],
   "source": [
    "reverseString(test2)"
   ]
  },
  {
   "cell_type": "code",
   "execution_count": 9,
   "metadata": {
    "collapsed": true
   },
   "outputs": [],
   "source": [
    "test4 = 'I love python central'"
   ]
  },
  {
   "cell_type": "code",
   "execution_count": 10,
   "metadata": {},
   "outputs": [
    {
     "data": {
      "text/plain": [
       "4"
      ]
     },
     "execution_count": 10,
     "metadata": {},
     "output_type": "execute_result"
    }
   ],
   "source": [
    "len(test4.split(\" \"))"
   ]
  },
  {
   "cell_type": "code",
   "execution_count": 11,
   "metadata": {
    "collapsed": true
   },
   "outputs": [],
   "source": [
    "def reverseSentence(sen):\n",
    "    split = sen.split(' ')\n",
    "    \n",
    "    left = 0\n",
    "    right = len(split)-1\n",
    "    \n",
    "    while left < right:\n",
    "        split[left], split[right] = split[right], split[left]\n",
    "        \n",
    "        left +=1\n",
    "        right -= 1\n",
    "    return ' '.join(split)"
   ]
  },
  {
   "cell_type": "code",
   "execution_count": 12,
   "metadata": {},
   "outputs": [
    {
     "data": {
      "text/plain": [
       "'central python love I'"
      ]
     },
     "execution_count": 12,
     "metadata": {},
     "output_type": "execute_result"
    }
   ],
   "source": [
    "reverseSentence(test4)"
   ]
  },
  {
   "cell_type": "code",
   "execution_count": 13,
   "metadata": {},
   "outputs": [
    {
     "data": {
      "text/plain": [
       "'am I'"
      ]
     },
     "execution_count": 13,
     "metadata": {},
     "output_type": "execute_result"
    }
   ],
   "source": [
    "reverseSentence(\"I am\")"
   ]
  },
  {
   "cell_type": "code",
   "execution_count": 15,
   "metadata": {},
   "outputs": [
    {
     "data": {
      "text/plain": [
       "'lartnec nohtyp evol I'"
      ]
     },
     "execution_count": 15,
     "metadata": {},
     "output_type": "execute_result"
    }
   ],
   "source": [
    "' '.join(test4[::-1].split(' '))"
   ]
  },
  {
   "cell_type": "code",
   "execution_count": 2,
   "metadata": {
    "collapsed": true
   },
   "outputs": [],
   "source": [
    "def isPalindrome(word):\n",
    "    left = 0\n",
    "    right = len(word)-1\n",
    "    \n",
    "    while left < right:\n",
    "        if word[left] == word[right]:\n",
    "            left +=1\n",
    "            right -=1\n",
    "        else:\n",
    "            return False\n",
    "    return True"
   ]
  },
  {
   "cell_type": "code",
   "execution_count": 57,
   "metadata": {
    "collapsed": true
   },
   "outputs": [],
   "source": [
    "test5 = 'Madam'"
   ]
  },
  {
   "cell_type": "code",
   "execution_count": 58,
   "metadata": {},
   "outputs": [
    {
     "data": {
      "text/plain": [
       "False"
      ]
     },
     "execution_count": 58,
     "metadata": {},
     "output_type": "execute_result"
    }
   ],
   "source": [
    "isPalindrome(test5)"
   ]
  },
  {
   "cell_type": "code",
   "execution_count": 48,
   "metadata": {
    "collapsed": true
   },
   "outputs": [],
   "source": [
    "class Node:\n",
    "    def __init__(self, data, nextNode):\n",
    "        self.data = data\n",
    "        self.nextNode = nextNode\n",
    "        \n",
    "    def getData(self):\n",
    "        return self.data\n",
    "    \n",
    "    def setData(self, val):\n",
    "        self.data = val\n",
    "        \n",
    "    def getNextNode(self):\n",
    "        return self.nextNode\n",
    "    \n",
    "    def setNextNode(self, val):\n",
    "        self.nextNode = val\n",
    "        \n",
    "class LinkedList:\n",
    "    def __init__(self, head = None):\n",
    "        self.head = head\n",
    "        self.size = 0\n",
    "        \n",
    "    def getSize(self):\n",
    "        return self.size\n",
    "    \n",
    "    def addNode(self,data):\n",
    "        newNode = Node(data, self.head)\n",
    "        self.head = newNode\n",
    "        self.size += 1\n",
    "        return True\n",
    "    \n",
    "    def printNode(self):\n",
    "        curr = self.head\n",
    "        while curr:\n",
    "            print(curr.data)\n",
    "            curr = curr.getNextNode()\n",
    "    \n",
    "    def findNode(self, value):\n",
    "        curr = self.head\n",
    "        while curr:\n",
    "            if curr.getData() == value:\n",
    "                return True\n",
    "            curr = curr.getNextNode()\n",
    "        return False\n",
    "    \n",
    "    def removeNode(self, value):\n",
    "        curr = self.head\n",
    "        prev = None\n",
    "        \n",
    "        while curr:\n",
    "            if curr.getData() == value:\n",
    "                if prev:\n",
    "                    prev.setNextNode(curr.getNextNode())\n",
    "                else:\n",
    "                    self.head = curr.getNextNode()\n",
    "                    \n",
    "                return True\n",
    "            \n",
    "            prev = curr\n",
    "            curr = curr.getNextNode()\n",
    "            \n",
    "        return False\n",
    "    \n",
    "    def reverse(self, node):\n",
    "        if node.getNextNode()==None:\n",
    "            self.head = node\n",
    "            return\n",
    "        self.reverse(node.getNextNode())\n",
    "        temp = node.getNextNode()\n",
    "        temp.setNextNode(node)\n",
    "        node.setNextNode(None)"
   ]
  },
  {
   "cell_type": "code",
   "execution_count": 49,
   "metadata": {
    "collapsed": true
   },
   "outputs": [],
   "source": [
    "myList = LinkedList()"
   ]
  },
  {
   "cell_type": "code",
   "execution_count": 62,
   "metadata": {},
   "outputs": [
    {
     "name": "stdout",
     "output_type": "stream",
     "text": [
      "Inserting\n"
     ]
    }
   ],
   "source": [
    "print(\"Inserting\")"
   ]
  },
  {
   "cell_type": "code",
   "execution_count": 50,
   "metadata": {},
   "outputs": [
    {
     "name": "stdout",
     "output_type": "stream",
     "text": [
      "True\n"
     ]
    }
   ],
   "source": [
    "print(myList.addNode(5))"
   ]
  },
  {
   "cell_type": "code",
   "execution_count": 51,
   "metadata": {},
   "outputs": [
    {
     "data": {
      "text/plain": [
       "True"
      ]
     },
     "execution_count": 51,
     "metadata": {},
     "output_type": "execute_result"
    }
   ],
   "source": [
    "myList.addNode(15)\n",
    "myList.addNode(25)"
   ]
  },
  {
   "cell_type": "code",
   "execution_count": 52,
   "metadata": {},
   "outputs": [
    {
     "name": "stdout",
     "output_type": "stream",
     "text": [
      "25\n",
      "15\n",
      "5\n"
     ]
    }
   ],
   "source": [
    "myList.printNode()"
   ]
  },
  {
   "cell_type": "code",
   "execution_count": 39,
   "metadata": {},
   "outputs": [
    {
     "data": {
      "text/plain": [
       "3"
      ]
     },
     "execution_count": 39,
     "metadata": {},
     "output_type": "execute_result"
    }
   ],
   "source": [
    "myList.getSize()"
   ]
  },
  {
   "cell_type": "code",
   "execution_count": 41,
   "metadata": {},
   "outputs": [
    {
     "data": {
      "text/plain": [
       "True"
      ]
     },
     "execution_count": 41,
     "metadata": {},
     "output_type": "execute_result"
    }
   ],
   "source": [
    "myList.removeNode(5)"
   ]
  },
  {
   "cell_type": "code",
   "execution_count": 42,
   "metadata": {},
   "outputs": [
    {
     "name": "stdout",
     "output_type": "stream",
     "text": [
      "25\n",
      "15\n"
     ]
    }
   ],
   "source": [
    "myList.printNode()"
   ]
  },
  {
   "cell_type": "code",
   "execution_count": 45,
   "metadata": {
    "collapsed": true
   },
   "outputs": [],
   "source": [
    "def reverseList(list):\n",
    "    prev = None\n",
    "    curr = list.head\n",
    "    nex = curr.getNextNode()\n",
    "    \n",
    "    while curr:\n",
    "        curr.setNextNode(prev)\n",
    "        \n",
    "        prev = curr\n",
    "        curr = nex\n",
    "        if nex:\n",
    "            nex = nex.getNextNode()\n",
    "            \n",
    "    list.head = prev"
   ]
  },
  {
   "cell_type": "code",
   "execution_count": 54,
   "metadata": {
    "collapsed": true
   },
   "outputs": [],
   "source": [
    "myList.reverse(myList.head)"
   ]
  },
  {
   "cell_type": "code",
   "execution_count": 55,
   "metadata": {},
   "outputs": [
    {
     "name": "stdout",
     "output_type": "stream",
     "text": [
      "5\n",
      "15\n",
      "25\n"
     ]
    }
   ],
   "source": [
    "myList.printNode()"
   ]
  },
  {
   "cell_type": "code",
   "execution_count": null,
   "metadata": {
    "collapsed": true
   },
   "outputs": [],
   "source": [
    "def"
   ]
  }
 ],
 "metadata": {
  "kernelspec": {
   "display_name": "Python 3",
   "language": "python",
   "name": "python3"
  },
  "language_info": {
   "codemirror_mode": {
    "name": "ipython",
    "version": 3
   },
   "file_extension": ".py",
   "mimetype": "text/x-python",
   "name": "python",
   "nbconvert_exporter": "python",
   "pygments_lexer": "ipython3",
   "version": "3.6.5"
  }
 },
 "nbformat": 4,
 "nbformat_minor": 2
}
