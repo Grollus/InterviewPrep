{
 "cells": [
  {
   "cell_type": "code",
   "execution_count": 31,
   "metadata": {},
   "outputs": [],
   "source": [
    "class Vertex:\n",
    "    def __init__(self, n):\n",
    "        self.name = n\n",
    "        self.neighbors = list()\n",
    "        \n",
    "        self.distance = 9999\n",
    "        self.color = 'black'\n",
    "        \n",
    "    def add_neighbor(self, v):\n",
    "        if v not in self.neighbors:\n",
    "            self.neighbors.append(v)\n",
    "            self.neighbors.sort()\n",
    "            \n",
    "class Graph:\n",
    "    vertices = {}\n",
    "    \n",
    "    def add_vertex(self, vertex):\n",
    "        if isinstance(vertex, Vertex) and vertex.name not in self.vertices:\n",
    "            self.vertices[vertex.name] = vertex\n",
    "            return True\n",
    "        else:\n",
    "            return False\n",
    "        \n",
    "    def add_edge(self, u, v):\n",
    "        if u in self.vertices and v in self.vertices:\n",
    "            for key, value in self.vertices.items():\n",
    "                if key == u:\n",
    "                    value.add_neighbor(v)\n",
    "                if key == v:\n",
    "                    value.add_neighbor(u)\n",
    "                    \n",
    "            return True\n",
    "        else:\n",
    "            return False\n",
    "        \n",
    "    def print_graph(self):\n",
    "        for key in sorted(list(self.vertices.keys())):\n",
    "            print(key + str(self.vertices[key].neighbors) + \" \" + str(self.vertices[key].distance))\n",
    "            \n",
    "    def bfs(self, vert):\n",
    "        q = list()\n",
    "        vert.distance = 0\n",
    "        vert.color = 'red'\n",
    "        for v in vert.neighbors:\n",
    "            self.vertices[v].distance = vert.distance + 1\n",
    "            q.append(v)\n",
    "            \n",
    "        while len(q) > 0:\n",
    "            u = q.pop(0)\n",
    "            node_u = self.vertices[u]\n",
    "            node_u.color = 'red'\n",
    "            \n",
    "            for v in node_u.neighbors:\n",
    "                node_v = self.vertices[v]\n",
    "                if node_v.color == 'black':\n",
    "                    q.append(v)\n",
    "                    if node_v.distance > node_u.distance +1:\n",
    "                        node_v.distance = node_u.distance + 1"
   ]
  },
  {
   "cell_type": "code",
   "execution_count": 32,
   "metadata": {
    "collapsed": true
   },
   "outputs": [],
   "source": [
    "g = Graph()"
   ]
  },
  {
   "cell_type": "code",
   "execution_count": 33,
   "metadata": {
    "collapsed": true
   },
   "outputs": [],
   "source": [
    "a = Vertex('A')"
   ]
  },
  {
   "cell_type": "code",
   "execution_count": 34,
   "metadata": {},
   "outputs": [
    {
     "data": {
      "text/plain": [
       "True"
      ]
     },
     "execution_count": 34,
     "metadata": {},
     "output_type": "execute_result"
    }
   ],
   "source": [
    "g.add_vertex(a)"
   ]
  },
  {
   "cell_type": "code",
   "execution_count": 35,
   "metadata": {},
   "outputs": [
    {
     "data": {
      "text/plain": [
       "True"
      ]
     },
     "execution_count": 35,
     "metadata": {},
     "output_type": "execute_result"
    }
   ],
   "source": [
    "g.add_vertex(Vertex('B'))"
   ]
  },
  {
   "cell_type": "code",
   "execution_count": 36,
   "metadata": {
    "collapsed": true
   },
   "outputs": [],
   "source": [
    "for i in range(ord('A'), ord('K')):\n",
    "    g.add_vertex(Vertex(chr(i)))"
   ]
  },
  {
   "cell_type": "code",
   "execution_count": 37,
   "metadata": {},
   "outputs": [],
   "source": [
    "edges = ['AB', 'AE', 'BF', 'CG', 'DE', 'DH', 'EH', 'FG', 'FI', 'FJ', 'GJ', 'HI']"
   ]
  },
  {
   "cell_type": "code",
   "execution_count": 38,
   "metadata": {
    "collapsed": true
   },
   "outputs": [],
   "source": [
    "for edge in edges:\n",
    "    g.add_edge(edge[:1], edge[1:])"
   ]
  },
  {
   "cell_type": "code",
   "execution_count": 39,
   "metadata": {
    "collapsed": true
   },
   "outputs": [],
   "source": [
    "g.bfs(a)"
   ]
  },
  {
   "cell_type": "code",
   "execution_count": 40,
   "metadata": {},
   "outputs": [
    {
     "name": "stdout",
     "output_type": "stream",
     "text": [
      "A['B', 'E'] 0\n",
      "B['A', 'F'] 1\n",
      "C['G'] 4\n",
      "D['E', 'H'] 2\n",
      "E['A', 'D', 'H'] 1\n",
      "F['B', 'G', 'I', 'J'] 2\n",
      "G['C', 'F', 'J'] 3\n",
      "H['D', 'E', 'I'] 2\n",
      "I['F', 'H'] 3\n",
      "J['F', 'G'] 3\n"
     ]
    }
   ],
   "source": [
    "g.print_graph()"
   ]
  },
  {
   "cell_type": "code",
   "execution_count": null,
   "metadata": {
    "collapsed": true
   },
   "outputs": [],
   "source": []
  }
 ],
 "metadata": {
  "kernelspec": {
   "display_name": "Python 3",
   "language": "python",
   "name": "python3"
  },
  "language_info": {
   "codemirror_mode": {
    "name": "ipython",
    "version": 3
   },
   "file_extension": ".py",
   "mimetype": "text/x-python",
   "name": "python",
   "nbconvert_exporter": "python",
   "pygments_lexer": "ipython3",
   "version": "3.6.5"
  }
 },
 "nbformat": 4,
 "nbformat_minor": 2
}
